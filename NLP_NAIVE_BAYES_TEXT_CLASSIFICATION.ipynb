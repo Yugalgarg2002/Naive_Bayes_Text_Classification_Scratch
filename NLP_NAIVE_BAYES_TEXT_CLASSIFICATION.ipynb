{
 "cells": [
  {
   "cell_type": "code",
   "execution_count": 37,
   "metadata": {},
   "outputs": [],
   "source": [
    "import numpy as np\n",
    "import pandas as pd\n",
    "import re\n",
    "import math"
   ]
  },
  {
   "cell_type": "code",
   "execution_count": 38,
   "metadata": {},
   "outputs": [
    {
     "data": {
      "text/html": [
       "<div>\n",
       "<style scoped>\n",
       "    .dataframe tbody tr th:only-of-type {\n",
       "        vertical-align: middle;\n",
       "    }\n",
       "\n",
       "    .dataframe tbody tr th {\n",
       "        vertical-align: top;\n",
       "    }\n",
       "\n",
       "    .dataframe thead th {\n",
       "        text-align: right;\n",
       "    }\n",
       "</style>\n",
       "<table border=\"1\" class=\"dataframe\">\n",
       "  <thead>\n",
       "    <tr style=\"text-align: right;\">\n",
       "      <th></th>\n",
       "      <th>Y</th>\n",
       "      <th>X</th>\n",
       "    </tr>\n",
       "  </thead>\n",
       "  <tbody>\n",
       "    <tr>\n",
       "      <th>0</th>\n",
       "      <td>Negative</td>\n",
       "      <td>just plain boring</td>\n",
       "    </tr>\n",
       "    <tr>\n",
       "      <th>1</th>\n",
       "      <td>Negative</td>\n",
       "      <td>entirely predictable and lacks energy</td>\n",
       "    </tr>\n",
       "    <tr>\n",
       "      <th>2</th>\n",
       "      <td>Negative</td>\n",
       "      <td>no suprises and very few laughs</td>\n",
       "    </tr>\n",
       "    <tr>\n",
       "      <th>3</th>\n",
       "      <td>Positive</td>\n",
       "      <td>very powerful</td>\n",
       "    </tr>\n",
       "    <tr>\n",
       "      <th>4</th>\n",
       "      <td>Positive</td>\n",
       "      <td>the most fun film of the summer</td>\n",
       "    </tr>\n",
       "    <tr>\n",
       "      <th>5</th>\n",
       "      <td>Positive</td>\n",
       "      <td>Chinese Bejing Chinese</td>\n",
       "    </tr>\n",
       "    <tr>\n",
       "      <th>6</th>\n",
       "      <td>Positive</td>\n",
       "      <td>Chinese Chinese Shingai</td>\n",
       "    </tr>\n",
       "    <tr>\n",
       "      <th>7</th>\n",
       "      <td>Positive</td>\n",
       "      <td>Chinese Macao</td>\n",
       "    </tr>\n",
       "    <tr>\n",
       "      <th>8</th>\n",
       "      <td>Negative</td>\n",
       "      <td>Tokyo Japan Chinese</td>\n",
       "    </tr>\n",
       "  </tbody>\n",
       "</table>\n",
       "</div>"
      ],
      "text/plain": [
       "          Y                                      X\n",
       "0  Negative                      just plain boring\n",
       "1  Negative  entirely predictable and lacks energy\n",
       "2  Negative        no suprises and very few laughs\n",
       "3  Positive                          very powerful\n",
       "4  Positive        the most fun film of the summer\n",
       "5  Positive                 Chinese Bejing Chinese\n",
       "6  Positive                Chinese Chinese Shingai\n",
       "7  Positive                          Chinese Macao\n",
       "8  Negative                    Tokyo Japan Chinese"
      ]
     },
     "execution_count": 38,
     "metadata": {},
     "output_type": "execute_result"
    }
   ],
   "source": [
    "data = pd.read_csv(r\"TEXT_DATA.csv\")\n",
    "data"
   ]
  },
  {
   "cell_type": "code",
   "execution_count": 39,
   "metadata": {},
   "outputs": [
    {
     "data": {
      "text/plain": [
       "\"\\nprob_class(data) -> Defines the probabilties(prior probabilities of the class) of the class. P(-), p(+). Returns a dictionary of classes with probability.\\n{'Negative': 0.6, 'Positive': 0.4}\\n\\ntokenize(string) -> Takes a string as input and seprates the words(containing alphanumeric characters) and covert them to lower case. Output a list of words.\\n['just', 'plain', 'boring']\\n\\nvocabulary(data) -> Output the count of distinct words in the data.\\n\\nclass_data(data, c) -> Outputs the data for a particular class.\\n\\nclass_data_tokens(data, c) -> Outputs the count of words in a particular class. + -> 9, - -> 14\\n\\nword_count_class(data, c, word) -> Outputs the count of occurences of the word in the class c.\\n\\ntokenize_unique(string) -> Outputs a string having the frequncies of unique words in the input string.\\n\""
      ]
     },
     "execution_count": 39,
     "metadata": {},
     "output_type": "execute_result"
    }
   ],
   "source": [
    "'''\n",
    "prob_class(data) -> Defines the probabilties(prior probabilities of the class) of the class. P(-), p(+). Returns a dictionary of classes with probability.\n",
    "{'Negative': 0.6, 'Positive': 0.4}\n",
    "\n",
    "tokenize(string) -> Takes a string as input and seprates the words(containing alphanumeric characters) and covert them to lower case. Output a list of words.\n",
    "['just', 'plain', 'boring']\n",
    "\n",
    "vocabulary(data) -> Output the count of distinct words in the data.\n",
    "\n",
    "class_data(data, c) -> Outputs the data for a particular class.\n",
    "\n",
    "class_data_tokens(data, c) -> Outputs the count of words in a particular class. + -> 9, - -> 14\n",
    "\n",
    "word_count_class(data, c, word) -> Outputs the count of occurences of the word in the class c.\n",
    "\n",
    "tokenize_unique(string) -> Outputs a string having the frequncies of unique words in the input string.\n",
    "\n",
    "predict(data, text) -> Applies the naive bayes algorithm to find the P(c)P(Sentence) and outputs the probabilities also the class of higher probabilities which gives the predited class for the given text.\n",
    "'''\n"
   ]
  },
  {
   "cell_type": "code",
   "execution_count": 40,
   "metadata": {},
   "outputs": [
    {
     "data": {
      "text/plain": [
       "{'Negative': 0.4444444444444444, 'Positive': 0.5555555555555556}"
      ]
     },
     "execution_count": 40,
     "metadata": {},
     "output_type": "execute_result"
    }
   ],
   "source": [
    "def prob_class(data):\n",
    "\n",
    "    classes = {}\n",
    "    total = len(data['Y'])\n",
    "\n",
    "    for c in data['Y']:\n",
    "        if c in classes:\n",
    "            classes[c] += 1\n",
    "        else:\n",
    "            classes[c] = 1\n",
    "    \n",
    "    for c in classes:\n",
    "        temp = classes[c]\n",
    "\n",
    "        classes[c] = temp/total\n",
    "    \n",
    "    return classes\n",
    "\n",
    "prob_class(data)"
   ]
  },
  {
   "cell_type": "code",
   "execution_count": 41,
   "metadata": {},
   "outputs": [
    {
     "data": {
      "text/plain": [
       "['hello', 'name', 'is']"
      ]
     },
     "execution_count": 41,
     "metadata": {},
     "output_type": "execute_result"
    }
   ],
   "source": [
    "def tokenize(string):\n",
    "\n",
    "    words = re.sub(\"[^\\w]\",\" \",string).split()\n",
    "    words = list(map(lambda word:word.lower(), words))\n",
    "\n",
    "    return words\n",
    "\n",
    "tokenize(\"Hello name is\")"
   ]
  },
  {
   "cell_type": "code",
   "execution_count": 42,
   "metadata": {},
   "outputs": [
    {
     "data": {
      "text/plain": [
       "26"
      ]
     },
     "execution_count": 42,
     "metadata": {},
     "output_type": "execute_result"
    }
   ],
   "source": [
    "def vocabulary(data):\n",
    "\n",
    "    count = 0\n",
    "    words = []\n",
    "\n",
    "    for sentence in data['X']:\n",
    "        tokens = tokenize(sentence)\n",
    "\n",
    "        for token in tokens:\n",
    "            if token not in words:\n",
    "                words.append(token)\n",
    "                count += 1\n",
    "        \n",
    "    return count\n",
    "\n",
    "vocabulary(data)"
   ]
  },
  {
   "cell_type": "code",
   "execution_count": 43,
   "metadata": {},
   "outputs": [
    {
     "data": {
      "text/html": [
       "<div>\n",
       "<style scoped>\n",
       "    .dataframe tbody tr th:only-of-type {\n",
       "        vertical-align: middle;\n",
       "    }\n",
       "\n",
       "    .dataframe tbody tr th {\n",
       "        vertical-align: top;\n",
       "    }\n",
       "\n",
       "    .dataframe thead th {\n",
       "        text-align: right;\n",
       "    }\n",
       "</style>\n",
       "<table border=\"1\" class=\"dataframe\">\n",
       "  <thead>\n",
       "    <tr style=\"text-align: right;\">\n",
       "      <th></th>\n",
       "      <th>Y</th>\n",
       "      <th>X</th>\n",
       "    </tr>\n",
       "  </thead>\n",
       "  <tbody>\n",
       "    <tr>\n",
       "      <th>3</th>\n",
       "      <td>Positive</td>\n",
       "      <td>very powerful</td>\n",
       "    </tr>\n",
       "    <tr>\n",
       "      <th>4</th>\n",
       "      <td>Positive</td>\n",
       "      <td>the most fun film of the summer</td>\n",
       "    </tr>\n",
       "    <tr>\n",
       "      <th>5</th>\n",
       "      <td>Positive</td>\n",
       "      <td>Chinese Bejing Chinese</td>\n",
       "    </tr>\n",
       "    <tr>\n",
       "      <th>6</th>\n",
       "      <td>Positive</td>\n",
       "      <td>Chinese Chinese Shingai</td>\n",
       "    </tr>\n",
       "    <tr>\n",
       "      <th>7</th>\n",
       "      <td>Positive</td>\n",
       "      <td>Chinese Macao</td>\n",
       "    </tr>\n",
       "  </tbody>\n",
       "</table>\n",
       "</div>"
      ],
      "text/plain": [
       "          Y                                X\n",
       "3  Positive                    very powerful\n",
       "4  Positive  the most fun film of the summer\n",
       "5  Positive           Chinese Bejing Chinese\n",
       "6  Positive          Chinese Chinese Shingai\n",
       "7  Positive                    Chinese Macao"
      ]
     },
     "execution_count": 43,
     "metadata": {},
     "output_type": "execute_result"
    }
   ],
   "source": [
    "def class_data(data, c):\n",
    "    return data.loc[data['Y']==c]\n",
    "\n",
    "class_data(data, \"Positive\")"
   ]
  },
  {
   "cell_type": "code",
   "execution_count": 44,
   "metadata": {},
   "outputs": [
    {
     "data": {
      "text/plain": [
       "17"
      ]
     },
     "execution_count": 44,
     "metadata": {},
     "output_type": "execute_result"
    }
   ],
   "source": [
    "def class_data_tokens(data, c):\n",
    "\n",
    "    df = class_data(data, c)\n",
    "\n",
    "    count = 0\n",
    "\n",
    "    for sentence in df['X']:\n",
    "        tokens = tokenize(sentence)\n",
    "\n",
    "        for token in tokens:\n",
    "            count += 1\n",
    "    \n",
    "    return count\n",
    "\n",
    "class_data_tokens(data, 'Negative')"
   ]
  },
  {
   "cell_type": "code",
   "execution_count": 45,
   "metadata": {},
   "outputs": [
    {
     "data": {
      "text/plain": [
       "1"
      ]
     },
     "execution_count": 45,
     "metadata": {},
     "output_type": "execute_result"
    }
   ],
   "source": [
    "def word_count_class(data, c, word):\n",
    "\n",
    "    df = class_data(data,c)\n",
    "\n",
    "    count = 0\n",
    "\n",
    "    for sentence in df['X']:\n",
    "        tokens = tokenize(sentence)\n",
    "\n",
    "        for token in tokens:\n",
    "            if token==word:\n",
    "                count += 1\n",
    "    \n",
    "    return count\n",
    "\n",
    "word_count_class(data, \"Positive\", \"fun\")"
   ]
  },
  {
   "cell_type": "code",
   "execution_count": 46,
   "metadata": {},
   "outputs": [
    {
     "data": {
      "text/plain": [
       "{'predictable': 1, 'no': 2, 'with': 1, 'fun': 1}"
      ]
     },
     "execution_count": 46,
     "metadata": {},
     "output_type": "execute_result"
    }
   ],
   "source": [
    "def tokenize_unique(text):\n",
    "\n",
    "    tokens = tokenize(text)\n",
    "\n",
    "    temp = {}\n",
    "\n",
    "    for token in tokens:\n",
    "        if token in temp:\n",
    "            temp[token] += 1\n",
    "        else:\n",
    "            temp[token] = 1\n",
    "\n",
    "    return temp\n",
    "\n",
    "tokenize_unique(\"predictable no with no fun\")"
   ]
  },
  {
   "cell_type": "code",
   "execution_count": 47,
   "metadata": {},
   "outputs": [],
   "source": [
    "def predict(data, text):\n",
    "\n",
    "    tokens = tokenize_unique(text)\n",
    "\n",
    "    class_prob_data = {}\n",
    "\n",
    "    for c in set(data['Y']):\n",
    "\n",
    "        total_tokens = class_data_tokens(data,c)\n",
    "        class_prob_data[c] = {}\n",
    "\n",
    "        for token in tokens:\n",
    "\n",
    "            freq = tokens[token]\n",
    "            freq_word_in_class = word_count_class(data,c,token)\n",
    "\n",
    "            prop_word_class = (freq_word_in_class+1)/(vocabulary(data)+class_data_tokens(data, c))\n",
    "\n",
    "            prop_word_class_all = math.pow(prop_word_class, freq)\n",
    "\n",
    "            class_prob_data[c][token] = prop_word_class_all\n",
    "\n",
    "    final = {}\n",
    "\n",
    "    for c in prob_class(data):\n",
    "        p = prob_class(data)[c]\n",
    "\n",
    "        m = np.prod(list(class_prob_data[c].values()))\n",
    "\n",
    "        final[c] = m*p\n",
    "\n",
    "    print(final)\n",
    "\n",
    "    return max(final, key=lambda x:final[x])"
   ]
  },
  {
   "cell_type": "code",
   "execution_count": 48,
   "metadata": {},
   "outputs": [
    {
     "name": "stdout",
     "output_type": "stream",
     "text": [
      "{'Negative': 5.200003679002601e-07, 'Positive': 3.2500022993766266e-07}\n"
     ]
    },
    {
     "data": {
      "text/plain": [
       "'Negative'"
      ]
     },
     "execution_count": 48,
     "metadata": {},
     "output_type": "execute_result"
    }
   ],
   "source": [
    "predict(data, \"predictable with no fun\")"
   ]
  },
  {
   "cell_type": "code",
   "execution_count": 49,
   "metadata": {},
   "outputs": [
    {
     "name": "stdout",
     "output_type": "stream",
     "text": [
      "{'Negative': 9.674425449307166e-08, 'Positive': 8.162796472852923e-07}\n"
     ]
    },
    {
     "data": {
      "text/plain": [
       "'Positive'"
      ]
     },
     "execution_count": 49,
     "metadata": {},
     "output_type": "execute_result"
    }
   ],
   "source": [
    "predict(data, \"Chinese Chinese Chinese Tokyo Japan\")"
   ]
  },
  {
   "cell_type": "code",
   "execution_count": null,
   "metadata": {},
   "outputs": [],
   "source": []
  }
 ],
 "metadata": {
  "kernelspec": {
   "display_name": "nlp",
   "language": "python",
   "name": "python3"
  },
  "language_info": {
   "codemirror_mode": {
    "name": "ipython",
    "version": 3
   },
   "file_extension": ".py",
   "mimetype": "text/x-python",
   "name": "python",
   "nbconvert_exporter": "python",
   "pygments_lexer": "ipython3",
   "version": "3.11.5"
  },
  "orig_nbformat": 4
 },
 "nbformat": 4,
 "nbformat_minor": 2
}
